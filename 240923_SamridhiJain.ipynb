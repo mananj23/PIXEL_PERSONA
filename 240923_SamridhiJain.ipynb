{
  "nbformat": 4,
  "nbformat_minor": 0,
  "metadata": {
    "colab": {
      "provenance": []
    },
    "kernelspec": {
      "name": "python3",
      "display_name": "Python 3"
    },
    "language_info": {
      "name": "python"
    }
  },
  "cells": [
    {
      "cell_type": "code",
      "execution_count": 1,
      "metadata": {
        "colab": {
          "base_uri": "https://localhost:8080/"
        },
        "id": "Y31ipFHUd_Xb",
        "outputId": "469c106d-aa49-4aed-9a7b-ddb0ca8ca9b8"
      },
      "outputs": [
        {
          "output_type": "stream",
          "name": "stdout",
          "text": [
            "******\n",
            "*****\n",
            "****\n",
            "***\n",
            "**\n",
            "*\n"
          ]
        }
      ],
      "source": [
        "i=6\n",
        "while (i>0):\n",
        "    j=0\n",
        "    while(j<i):\n",
        "        print(\"*\", end='')\n",
        "        j+=1\n",
        "    print()\n",
        "    i-=1"
      ]
    },
    {
      "cell_type": "code",
      "source": [
        "i=6\n",
        "while (i>0):\n",
        "    print('*'*i)\n",
        "    i-=1"
      ],
      "metadata": {
        "colab": {
          "base_uri": "https://localhost:8080/"
        },
        "id": "0ZvitKqQfAfo",
        "outputId": "18257bb9-a41d-4dc0-9bef-f932ac4c0b18"
      },
      "execution_count": 2,
      "outputs": [
        {
          "output_type": "stream",
          "name": "stdout",
          "text": [
            "******\n",
            "*****\n",
            "****\n",
            "***\n",
            "**\n",
            "*\n"
          ]
        }
      ]
    }
  ]
}