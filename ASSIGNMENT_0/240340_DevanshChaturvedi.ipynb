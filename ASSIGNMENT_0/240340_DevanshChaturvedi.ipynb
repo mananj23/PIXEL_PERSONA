{
  "nbformat": 4,
  "nbformat_minor": 0,
  "metadata": {
    "colab": {
      "provenance": []
    },
    "kernelspec": {
      "name": "python3",
      "display_name": "Python 3"
    },
    "language_info": {
      "name": "python"
    }
  },
  "cells": [
    {
      "cell_type": "code",
      "execution_count": 11,
      "metadata": {
        "colab": {
          "base_uri": "https://localhost:8080/"
        },
        "id": "Cy2cy9fvXZsz",
        "outputId": "f26dfb79-aafe-40dc-b8ba-6808386b40bd"
      },
      "outputs": [
        {
          "output_type": "stream",
          "name": "stdout",
          "text": [
            "******\n",
            "****\n",
            "***\n",
            "**\n",
            "*\n"
          ]
        }
      ],
      "source": [
        "for i in range(5):\n",
        "  n = 5-i\n",
        "  if(i!=0):\n",
        "    print(n*\"*\")\n",
        "  else:\n",
        "    print((n+1)*\"*\")"
      ]
    },
    {
      "cell_type": "markdown",
      "source": [],
      "metadata": {
        "id": "ymHk8xrfXkXY"
      }
    }
  ]
}