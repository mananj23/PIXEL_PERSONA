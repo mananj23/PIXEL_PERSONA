{
  "nbformat": 4,
  "nbformat_minor": 0,
  "metadata": {
    "colab": {
      "provenance": []
    },
    "kernelspec": {
      "name": "python3",
      "display_name": "Python 3"
    },
    "language_info": {
      "name": "python"
    }
  },
  "cells": [
    {
      "cell_type": "code",
      "execution_count": 11,
      "metadata": {
        "colab": {
          "base_uri": "https://localhost:8080/"
        },
        "id": "hYZCLi1Go67w",
        "outputId": "158945b2-6eba-4dad-bca4-7032740698ac"
      },
      "outputs": [
        {
          "output_type": "stream",
          "name": "stdout",
          "text": [
            "******\n",
            "\n",
            "****\n",
            "\n",
            "***\n",
            "\n",
            "**\n",
            "\n",
            "*\n",
            "\n"
          ]
        }
      ],
      "source": [
        "i = 6\n",
        "while i>0:\n",
        "  j=i\n",
        "  if j==5 :\n",
        "    i-=1\n",
        "    continue\n",
        "  else:\n",
        "    while j>0:\n",
        "      print(\"*\", end='')\n",
        "      j-=1\n",
        "    i-=1\n",
        "    print(\"\\n\")"
      ]
    }
  ]
}