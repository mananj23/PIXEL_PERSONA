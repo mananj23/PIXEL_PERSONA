{
  "nbformat": 4,
  "nbformat_minor": 0,
  "metadata": {
    "colab": {
      "provenance": []
    },
    "kernelspec": {
      "name": "python3",
      "display_name": "Python 3"
    },
    "language_info": {
      "name": "python"
    }
  },
  "cells": [
    {
      "cell_type": "code",
      "source": [
        "for i in range(5,0,-1):\n",
        "  for j in range(0,i,1):\n",
        "    print(\"*\", end='')\n",
        "  print(\"\\n\")\n"
      ],
      "metadata": {
        "id": "xV9vUvaRJe_7",
        "colab": {
          "base_uri": "https://localhost:8080/"
        },
        "outputId": "a4b4e1f4-2735-4090-867d-ab4eee19c842"
      },
      "execution_count": 1,
      "outputs": [
        {
          "output_type": "stream",
          "name": "stdout",
          "text": [
            "*****\n",
            "\n",
            "****\n",
            "\n",
            "***\n",
            "\n",
            "**\n",
            "\n",
            "*\n",
            "\n"
          ]
        }
      ]
    },
    {
      "cell_type": "code",
      "source": [
        "for i in range(5,0,-1):\n",
        "  for j in range(i):\n",
        "    print(\"*\", end='')\n",
        "  print(\"\\n\")\n"
      ],
      "metadata": {
        "colab": {
          "base_uri": "https://localhost:8080/"
        },
        "id": "KUh8tOWvROO7",
        "outputId": "fd873c3c-044b-4c64-d850-c463ba5cf7a0"
      },
      "execution_count": 2,
      "outputs": [
        {
          "output_type": "stream",
          "name": "stdout",
          "text": [
            "*****\n",
            "\n",
            "****\n",
            "\n",
            "***\n",
            "\n",
            "**\n",
            "\n",
            "*\n",
            "\n"
          ]
        }
      ]
    },
    {
      "cell_type": "code",
      "source": [],
      "metadata": {
        "id": "PB3xeOIoRXqf"
      },
      "execution_count": null,
      "outputs": []
    }
  ]
}