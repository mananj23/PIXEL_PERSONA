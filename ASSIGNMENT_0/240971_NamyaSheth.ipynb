{
  "nbformat": 4,
  "nbformat_minor": 0,
  "metadata": {
    "colab": {
      "provenance": []
    },
    "kernelspec": {
      "name": "python3",
      "display_name": "Python 3"
    },
    "language_info": {
      "name": "python"
    }
  },
  "cells": [
    {
      "cell_type": "code",
      "execution_count": 5,
      "metadata": {
        "colab": {
          "base_uri": "https://localhost:8080/"
        },
        "id": "NBC4Q1_jTItV",
        "outputId": "68217530-e950-45fc-9f4f-fb7c0b2b0207"
      },
      "outputs": [
        {
          "output_type": "stream",
          "name": "stdout",
          "text": [
            "******\n",
            "****\n",
            "***\n",
            "**\n",
            "*\n"
          ]
        }
      ],
      "source": [
        "for i in range(6): print(\"*\",end=\"\")\n",
        "print()\n",
        "for i in range (4):\n",
        "    for j in range (4-i):\n",
        "        print(\"*\",end=\"\")\n",
        "    print()\n"
      ]
    }
  ]
}