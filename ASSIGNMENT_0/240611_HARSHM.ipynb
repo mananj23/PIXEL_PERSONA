{
  "nbformat": 4,
  "nbformat_minor": 0,
  "metadata": {
    "colab": {
      "provenance": []
    },
    "kernelspec": {
      "name": "python3",
      "display_name": "Python 3"
    },
    "language_info": {
      "name": "python"
    }
  },
  "cells": [
    {
      "cell_type": "code",
      "execution_count": 3,
      "metadata": {
        "colab": {
          "base_uri": "https://localhost:8080/"
        },
        "id": "re-hmu-8ZWet",
        "outputId": "c093f44b-391c-44a8-ad8b-c92c5e6326e8"
      },
      "outputs": [
        {
          "output_type": "stream",
          "name": "stdout",
          "text": [
            "******\n",
            "*****\n",
            "****\n",
            "***\n",
            "**\n",
            "*\n",
            "\n"
          ]
        }
      ],
      "source": [
        "for i in range(7) :\n",
        "  print(\"*\"*(6-i))"
      ]
    }
  ]
}