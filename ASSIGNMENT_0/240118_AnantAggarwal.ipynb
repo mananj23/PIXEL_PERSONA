{
  "nbformat": 4,
  "nbformat_minor": 0,
  "metadata": {
    "colab": {
      "provenance": []
    },
    "kernelspec": {
      "name": "python3",
      "display_name": "Python 3"
    },
    "language_info": {
      "name": "python"
    }
  },
  "cells": [
    {
      "cell_type": "code",
      "execution_count": 5,
      "metadata": {
        "id": "aNmQKXkJq0qj",
        "colab": {
          "base_uri": "https://localhost:8080/"
        },
        "outputId": "68bae2f8-90b0-4edf-9bcf-17d610f9a3d7"
      },
      "outputs": [
        {
          "output_type": "stream",
          "name": "stdout",
          "text": [
            "******\n",
            "*****\n",
            "****\n",
            "***\n",
            "**\n",
            "*\n"
          ]
        }
      ],
      "source": [
        "for i in range(6):\n",
        "  print('*'*(6-i))"
      ]
    }
  ]
}