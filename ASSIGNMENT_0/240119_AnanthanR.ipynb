{
  "nbformat": 4,
  "nbformat_minor": 0,
  "metadata": {
    "colab": {
      "provenance": []
    },
    "kernelspec": {
      "name": "python3",
      "display_name": "Python 3"
    },
    "language_info": {
      "name": "python"
    }
  },
  "cells": [
    {
      "cell_type": "code",
      "execution_count": 1,
      "metadata": {
        "colab": {
          "base_uri": "https://localhost:8080/"
        },
        "id": "ArhsU6jxYY-S",
        "outputId": "43b70c0e-bee5-4e4c-d946-f4447e254e0e"
      },
      "outputs": [
        {
          "output_type": "stream",
          "name": "stdout",
          "text": [
            "******\n",
            "****\n",
            "***\n",
            "**\n",
            "*\n"
          ]
        }
      ],
      "source": [
        "i = 6\n",
        "while i > 0:\n",
        "  if i!=5:\n",
        "    print('*'*i)\n",
        "  i = i - 1\n"
      ]
    }
  ]
}