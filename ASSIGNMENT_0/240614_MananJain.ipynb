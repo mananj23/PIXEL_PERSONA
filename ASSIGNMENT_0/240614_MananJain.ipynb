{
  "nbformat": 4,
  "nbformat_minor": 0,
  "metadata": {
    "colab": {
      "provenance": []
    },
    "kernelspec": {
      "name": "python3",
      "display_name": "Python 3"
    },
    "language_info": {
      "name": "python"
    }
  },
  "cells": [
    {
      "cell_type": "code",
      "execution_count": 18,
      "metadata": {
        "colab": {
          "base_uri": "https://localhost:8080/"
        },
        "id": "Fc45aZ59DyRn",
        "outputId": "761b18c9-4170-44d4-b835-1b151e619e01"
      },
      "outputs": [
        {
          "output_type": "stream",
          "name": "stdout",
          "text": [
            "******\n",
            "****\n",
            "***\n",
            "**\n",
            "*\n"
          ]
        }
      ],
      "source": [
        "for x in range(0,6):\n",
        "  if(x!=1):\n",
        "    print((6-x)*\"*\")"
      ]
    }
  ]
}